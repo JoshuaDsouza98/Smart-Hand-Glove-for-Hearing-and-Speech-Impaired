#import for machine learning
import csv
import serial
import pandas as pd
import numpy as np
from sklearn import svm
from sklearn.preprocessing import StandardScaler,LabelEncoder
from sklearn.model_selection import train_test_split
#import for kivy
import pyttsx3
import time
import kivy
from kivy.app import App
from kivy.uix.label import Label
from kivy.uix.gridlayout import GridLayout
from kivy.uix.textinput import TextInput
from kivy.uix.button import Button
from kivy.uix.widget import Widget
from kivy.properties import ObjectProperty
from kivy.lang import Builder
from kivy.core.window import Window
from kivy.clock import Clock

Window.size = (500,600)


#Builder.load_file('testapp.kv')


class Mylayout(GridLayout):
    def __init__(self,**kwargs):
        super().__init__(**kwargs)
        self.rows = 20
        self.cols = 1


        self.l1 = Label(text = " Please connect the glove " , font_size= '30sp')
        self.add_widget(self.l1)




        self.b1 = Button(text= "Lets Talk!", size_hint=(0.2,0.2))
        Clock.schedule_interval(self.update_label,5)
        #self.b1.bind(on_press = self.update_label)
        self.add_widget(self.b1)





    def update_label(self,*args):
        arduino_port = "COM4" #serial port of Arduino
        baud = 9600 #arduino Nano runs at 9600 baud
        ser = serial.Serial(arduino_port, baud)
        getData=str(ser.readline(),'utf-8')
                #print(getData)
        data=getData[0:][:-1]
                #print(data)
        a = data.split(',')
        for i in range(0,3):
            a[i] = float(a[i])
        for i in range(3,8):
            a[i] = int(a[i])
        b=[a]
        c=s.transform(b)
        c=clf.predict(c)
        x=c.tolist()
        content=x[0]
        engine.say(content)
        engine.runAndWait()
        self.l1.text = content






    #s=StandardScaler()

    '''arduino_port = "COM4" #serial port of Arduino
    baud = 9600 #arduino Nano runs at 9600 baud
    ser = serial.Serial(arduino_port, baud)

    getData=str(ser.readline(),'utf-8')
        #print(getData)
    data=getData[0:][:-1]
        #print(data)
    a = data.split(',')
    for i in range(0,3):
        a[i] = float(a[i])
    for i in range(3,8):
        a[i] = int(a[i])
    b=[a]
    c=s.transform(b)
    c=clf.predict(c)
    x=c.tolist()
    content=x[0]
    return content
'''


class TalkApp(App):
    def build(self):
        return Mylayout()



if __name__=='__main__':
        df=pd.read_csv("bigfingeramey.csv")
        bins=(0,1,2,3,4,5,6,7,8,9,10,11,12,13,14,15,16,17,18,19,20,21,22,23,24,25,26,27,28,29,30)
        alpha=['A','B','C','D','E','F','G','H','I','J','K','L','M','N','O','P','Q','R','S','T','U','V','W','X','Y','Z','I am good','I need help','I need food',"Let's go out"]
        df['CLASS']=pd.cut(df['CLASS'],bins=bins,labels=alpha)
        X=df.drop('CLASS',axis=1)
        y=df['CLASS']
        X_train,X_test,y_train,y_test = train_test_split(X,y,test_size=0.2,random_state=3)
        s=StandardScaler()
        X_train=s.fit_transform(X_train)
        X_test=s.transform(X_test)
        clf=svm.SVC(kernel='rbf',C=7, gamma=0.1)
        clf.fit(X_train,y_train)
        pred=clf.predict(X_test)
        engine = pyttsx3.init()
        TalkApp().run()
