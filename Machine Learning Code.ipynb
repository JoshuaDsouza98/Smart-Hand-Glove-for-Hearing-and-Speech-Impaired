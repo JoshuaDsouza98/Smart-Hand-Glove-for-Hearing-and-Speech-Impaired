import pyttsx3
import csv
import serial
import pandas as pd
import numpy as np
import matplotlib.pyplot as plt
from tkinter import *
from sklearn import svm
from sklearn.metrics import confusion_matrix,classification_report,accuracy_score
from sklearn.preprocessing import StandardScaler,LabelEncoder
from sklearn.model_selection import train_test_split
import matplotlib.pyplot as plt
import seaborn as sns
df=pd.read_csv("bigfingeramey.csv")
bins=(0,1,2,3,4,5,6,7,8,9,10,11,12,13,14,15,16,17,18,19,20,21,22,23,24,25,26,27,28,29,30)
alpha=['A','B','C','D','E','F','G','H','I','J','K','L','M','N','O','P','Q','R','S','T','U','V','W','X','Y','Z', 'I am good','I need help','I need food',"Let's go out"]
df['CLASS']=pd.cut(df['CLASS'],bins=bins,labels=alpha)
X=df.drop('CLASS',axis=1)
y=df['CLASS']
X_train,X_test,y_train,y_test = train_test_split(X,y,test_size=0.1,random_state=5)
s=StandardScaler()
X_train=s.fit_transform(X_train)
X_test=s.transform(X_test)
clf=svm.SVC(kernel='rbf',C=7,gamma=0.1)
clf.fit(X_train,y_train)
pred=clf.predict(X_test)
engine = pyttsx3.init()
arduino_port = "COM4" #serial port of Arduino
baud = 9600 #arduino Nano runs at 9600 baud 
ser = serial.Serial(arduino_port, baud)
print("Connected to Arduino port:" + arduino_port)
samples =20
line = 0 #acts as a count 
while line < samples:
    getData=str(ser.readline(),'utf-8')
    #print(getData)
    data=getData[0:][:-1]
    print(data)    
    a = data.split(',')
    #print(a)
    for i in range(0,3): 
        a[i] = float(a[i])
    for i in range(3,8):
        a[i] = int(a[i]) 
    b=[a]
    c=s.transform(b)
    c=clf.predict(c)
    x=c.tolist()
    #engine.say(x[0])
    #engine.runAndWait()
    
    #ser.write(x[0].encode("utf-8"))
    #print(c)
    print(x)
    line = line+1
print("Data in real time")
ser.close()
